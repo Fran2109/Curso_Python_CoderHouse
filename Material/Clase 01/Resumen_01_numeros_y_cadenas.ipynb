{
  "nbformat": 4,
  "nbformat_minor": 0,
  "metadata": {
    "colab": {
      "provenance": [],
      "collapsed_sections": [
        "Igt_Ab7D4oY3",
        "d9RI5EI8A7aI",
        "0WpJu-sOJryE",
        "uyPIycniKex9",
        "FKi6EOusO0Ue",
        "1gYogf2QPwXe",
        "rwzosvhUUewN",
        "1uoBOKJGVJdS"
      ]
    },
    "kernelspec": {
      "name": "python3",
      "display_name": "Python 3"
    },
    "language_info": {
      "name": "python"
    }
  },
  "cells": [
    {
      "cell_type": "markdown",
      "source": [
        "# Numeros y cadenas\n",
        "\n",
        "![antoine-dautry-_zsL306fDck-unsplash (1).jpg](data:image/jpeg;base64,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)"
      ],
      "metadata": {
        "id": "hn0Nr-y67GAX"
      }
    },
    {
      "cell_type": "markdown",
      "source": [
        "## Numeros\n",
        "\n",
        "\n",
        "---\n",
        "\n",
        "\n",
        "Trabajar con numeros en Python es muy similar a hacerlo en la vida real.\n",
        "\n",
        "Lo que si es importante, es que en este lenguaje los numeros estan sujetos a limitaciones propias del TIPO de numero (enterno, decimal, etc.)\n",
        "\n",
        "Python nos provee de 3 tipos de datos numericos:\n",
        "\n",
        "\n",
        "*   enteros \n",
        "*   punto flotante\n",
        "*   complejos"
      ],
      "metadata": {
        "id": "XPRW-Kiu7JWT"
      }
    },
    {
      "cell_type": "markdown",
      "source": [
        "### Numeros enteros\n",
        "\n",
        "\n",
        "---\n",
        "\n",
        "\n",
        "Los numeros enteros son aquellos que utilizamos la mayor parte del tiempo. Son aquellos numeros sin decimales, es decir, sin una coma entre los digitos.\n",
        "\n",
        "Python tiene dos formas de trabajar con enteros:\n",
        "\n",
        "__int__ : se usa para numeros mas chicos, como edades, cantidades, etc.\n",
        "\n",
        "Por ejemplo: 15, 18, 2021, 456789\n",
        "\n",
        "__long__: Python en su version 2, provee este tipo de dato en reemplazo de int para usar numeros enteros muy grandes. Su uso es simple: al final de los digitos, debemos de incorporar una \"L\"\n",
        "\n",
        "Por ejemplo: 98575945789397594L, 37124023023804L\n",
        "\n",
        "A partir de las versiones 3 de Python, solo se admite el tipo int, por lo que el tipo Long ya no se utiliza mas.\n",
        "\n",
        "Aun asi es bueno tenerlo en cuenta ya que muchas veces nos tocara migrar versiones viejas de programas escritos en Python y estas cosas pueden estar presentes.\n"
      ],
      "metadata": {
        "id": "YYv0wVaZQVBO"
      }
    },
    {
      "cell_type": "markdown",
      "source": [
        "### Numeros Decimales\n",
        "---\n",
        "Estos numeros son tambien conocidos como numeros reales o de punto flotante, ya que incorporan decimales.\n",
        "\n",
        "Tenemos dos formas de trabajar con estos numeros:\n",
        "\n",
        "__float__: es el tipo de dato mas usado para trabajar con numeros decimales que no requieran mayor precision en la cantidad de digitos despues de la coma.\n",
        "\n",
        "Por ejemplo: 0.270, 501.15, -54.2378532\n",
        "\n",
        "\n",
        "\n",
        "__Decimal__: se trata de un tipo de dato nuevo que permite agregar mas digitos despues de la coma decimal.\n",
        "\n",
        "Por ejemplo: 0.0000000000000000000000000001111"
      ],
      "metadata": {
        "id": "mEakCjfqR5lP"
      }
    },
    {
      "cell_type": "markdown",
      "source": [
        "### Numeros complejos\n",
        "\n",
        "\n",
        "---\n",
        "\n",
        "\n",
        "Este tipo de datos tiene mucha aplicacion en programas matematicos, pero es bueno conocerlo y saber que existe.\n",
        "Los numeros complejos estan constituidos de dos partes: una parte real y una parte imaginaria.\n",
        "\n",
        "Articulo: [Numeros complejos](https://es.wikipedia.org/wiki/N%C3%BAmero_complejo)\n",
        "\n",
        "Para Python es suficiente con agregar una \"j\" luego de un numero, para trabajarlo como la parte imaginaria.\n",
        "\n",
        "Por ejemplo: 2j, 3.1j, 2.000001j"
      ],
      "metadata": {
        "id": "y50x7n9bTRvL"
      }
    },
    {
      "cell_type": "markdown",
      "source": [
        "## Operaciones numericas\n",
        "---\n",
        "Los \"operadores aritmeticos\", son aquellos simbolos matematicos que nos permiten realizar operaciones matematicas (sumas, restas, multiplicaciones, etc).\n",
        "El resultado de una operacion en Python, dependera del tipo de dato numerico existente en la operaciones.\n",
        "\n",
        "Si sumamos dos numeros enteros, el resultado final sera un nuevo numero entero.\n",
        "Pero si al menos uno de los numeros es un decimal, el resultado final sera un numero decimal.\n",
        "\n",
        "Si no me crees, te invito a que ejecutes la instruccion de mas abajo"
      ],
      "metadata": {
        "id": "l_XHp8n2VbV_"
      }
    },
    {
      "cell_type": "code",
      "execution_count": null,
      "metadata": {
        "id": "d_TVSl-V7C4H",
        "colab": {
          "base_uri": "https://localhost:8080/"
        },
        "outputId": "9a52e68f-eb7a-475c-e639-653a0b60be6b"
      },
      "outputs": [
        {
          "output_type": "execute_result",
          "data": {
            "text/plain": [
              "5.5"
            ]
          },
          "metadata": {},
          "execution_count": 2
        }
      ],
      "source": [
        "# Resultado decimal\n",
        "2 + 3.5"
      ]
    },
    {
      "cell_type": "code",
      "source": [
        "# Resultado entero\n",
        "3 + 8"
      ],
      "metadata": {
        "colab": {
          "base_uri": "https://localhost:8080/"
        },
        "id": "Fy4WMUlcX37I",
        "outputId": "276f58b0-211e-4cf8-9c88-9d0ee801733f"
      },
      "execution_count": null,
      "outputs": [
        {
          "output_type": "execute_result",
          "data": {
            "text/plain": [
              "11"
            ]
          },
          "metadata": {},
          "execution_count": 4
        }
      ]
    },
    {
      "cell_type": "code",
      "source": [
        "# La division de dos numeros enteros, da un numero decimal\n",
        "4 / 2 "
      ],
      "metadata": {
        "colab": {
          "base_uri": "https://localhost:8080/"
        },
        "id": "nq5fiUCpc0tB",
        "outputId": "dd309328-6a0f-4dae-cbda-078c52dd5999"
      },
      "execution_count": null,
      "outputs": [
        {
          "output_type": "execute_result",
          "data": {
            "text/plain": [
              "2.0"
            ]
          },
          "metadata": {},
          "execution_count": 5
        }
      ]
    },
    {
      "cell_type": "markdown",
      "source": [
        "Veamos cuales son los operadores matematicos que tiene Python y como podemos usarlos:\n",
        "![image.png](data:image/png;base64,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)\n",
        "\n",
        "Estos operadores, como en las matematicas, tienen un orden de procedencia. Este orden determina como se va a resolver la operacion matematica.\n",
        "\n",
        "1.   Terminos entre parentesis              ()\n",
        "2.   Potencias y raices                     **\n",
        "3.   Multiplicaciones y divisiones          /, *\n",
        "4.   Sumas y restas                         +, -\n",
        "\n"
      ],
      "metadata": {
        "id": "-BSyt5lsX74f"
      }
    },
    {
      "cell_type": "code",
      "source": [
        "# El orden de resolucion de esta operacion sera el siguiente:\n",
        "# 1. Resolver (2+1), porque los parentesis tienen prioridad \"1\". El resultado es 3\n",
        "# 2. Dado que * y / tienen la misma prioridad \"2\", se resuelve de izquiera a derecha\n",
        "# 2.1 Resolvemos 43*5\n",
        "# 2.2 Al resultado obtenido anteriormente, se lo divide por 3. El resultado es 71.66666666666667\n",
        "# 3. Finalmente, resolvemos la suma 55 + 71.66666666666667 . El resultado final es 126.66666666666667\n",
        "55 + 43 * 5 / (2 + 1)"
      ],
      "metadata": {
        "colab": {
          "base_uri": "https://localhost:8080/"
        },
        "id": "bt8LW_43ZfPO",
        "outputId": "9b8f52e3-25f1-4769-f98d-ecc71e9e159f"
      },
      "execution_count": null,
      "outputs": [
        {
          "output_type": "execute_result",
          "data": {
            "text/plain": [
              "126.66666666666667"
            ]
          },
          "metadata": {},
          "execution_count": 3
        }
      ]
    },
    {
      "cell_type": "markdown",
      "source": [
        "## Cadenas de texto\n",
        "---\n",
        "Las cadenas son un tipo de dato, compuesto de caracteres que representan un texto.\n",
        "\n",
        "Por ejemplo, la cadena __Hola__, esta conformada por los caracteres: H, o, l, a\n",
        "\n",
        "Dentro del mundo de Python, este tipo de dato se denomina __str__ que significa __string__. Su declaracion es simple: encerrar un caracter, palabra o conjunto de palabras, entre comillas simples o dobles.\n",
        "\n",
        "Por ejemplo: \"Hola coders\", 'Bienvenid@s al curso de Python'\n",
        "\n",
        "La unica regla con las cadenas es que, elijar las comillas que elijas, te asegures de cerrar el string de la misma forma."
      ],
      "metadata": {
        "id": "XfsR0yGBc-t6"
      }
    },
    {
      "cell_type": "code",
      "source": [
        "# Ejemplos validos\n",
        "\n",
        "\"Hola mundo\"\n",
        "'Bienvenid@s Coders'"
      ],
      "metadata": {
        "id": "JQKP0yuguId1"
      },
      "execution_count": null,
      "outputs": []
    },
    {
      "cell_type": "code",
      "source": [
        "# Ejemplos NO validos\n",
        "\"Hola mundo'\n",
        "'Bienvenid@s Coders\"\n",
        "\"Otra cadena"
      ],
      "metadata": {
        "id": "qmwuaieDuPHV"
      },
      "execution_count": null,
      "outputs": []
    },
    {
      "cell_type": "markdown",
      "source": [
        "En el caso que necesitemos imprimir mensajes como este:\n",
        "\n",
        "_Bienvenid@s al curso de \"Python\"_\n",
        "\n",
        "Debemos de:\n",
        "\n",
        "1. Encerrar todo el string con comillas simples: `'Bienvenid@s al curso de \"Python\"'`\n",
        "2. Usar \\ como caracter de escape: `\"Bienvenid@s al curso de \\\"Python\\\"\"`"
      ],
      "metadata": {
        "id": "0phnFI-duf8P"
      }
    },
    {
      "cell_type": "code",
      "source": [
        "# Ejemplos validos\n",
        "\"Hola 'mundo'\"\n",
        "'Hola \"mundo\"'\n",
        "\"Hola \\\"mundo\\\"\"\n",
        "'Hola \\'mundo\\''"
      ],
      "metadata": {
        "id": "95b5NNwnvECc"
      },
      "execution_count": null,
      "outputs": []
    },
    {
      "cell_type": "markdown",
      "source": [
        "## Operaciones con String\n",
        "---\n",
        "Con las cadenas podemos utilizar dos operadores matematicos: + y *\n",
        "\n",
        "El primer operador necesita de dos cadenas. El resultado es una nueva cadena formada de la union de las dos anteriores\n",
        "\n",
        "El segundo operador necesita un string y un numero entero. El resultado sera una nueva cadena formada por la repeticion de la primer cadena, la cantidad de veces indicada por el numero."
      ],
      "metadata": {
        "id": "8pukyF3ocVrj"
      }
    },
    {
      "cell_type": "code",
      "source": [
        "# Suma de cadenas\n",
        "\n",
        "\"Hola\" + \" \" + \"Mundo\""
      ],
      "metadata": {
        "id": "cnPTz8Ldc4o5"
      },
      "execution_count": null,
      "outputs": []
    },
    {
      "cell_type": "code",
      "source": [
        "# Repetir cadenas\n",
        "\n",
        "\"NA\"*8"
      ],
      "metadata": {
        "id": "uY9-FnuJc_mE"
      },
      "execution_count": null,
      "outputs": []
    },
    {
      "cell_type": "code",
      "source": [
        "# Podemos armas operaciones tan complejas como queramos\n",
        "\"NA\" * 8 + \" Batman! ... ouh! digo, Lider! Amo al Lider!\""
      ],
      "metadata": {
        "id": "_yaRDmeudZlh"
      },
      "execution_count": null,
      "outputs": []
    },
    {
      "cell_type": "markdown",
      "source": [
        "## Funcion print()\n",
        "---\n",
        "Uno de los objetivos de nuestros programas, es transmitirle informacion a nuestros usuarios.\n",
        "\n",
        "Por ejemplo: mostrar el resultado de una operacion, mostrarle un listado de cursos disponibles en Coder, etc.\n",
        "\n",
        "Python nos provee una funcion super util llamada `print()` con la que podremos mostrar mensajes por pantalla.\n",
        "\n",
        "Esta funcion recibe uno o mas valores que imprimira por pantalla. Para indicarle que imprima mas de un valor, debemos de separarlos con coma (\",\"): `print(1,2,3)`\n",
        "\n",
        "🔽 Mira estos ejemplos 🔽"
      ],
      "metadata": {
        "id": "2308autcvVEx"
      }
    },
    {
      "cell_type": "code",
      "source": [
        "# Imprimir numeros\n",
        "print(150)\n",
        "print(2.14)\n",
        "\n",
        "# Imprimir cadenas de texto\n",
        "print(\"Esto es una cadena\")\n",
        "print('Esto es otra cadena')\n",
        "\n",
        "# Imprimir el resultado de operaciones\n",
        "# En este caso, Python primero resolvera la operacion y luego imprimira el resultado\n",
        "print(25+50)\n",
        "\n",
        "# Imprimir varios valores\n",
        "print(1,2,3,\"Hola a tod@s\", \"esto es un ejemplo\")\n"
      ],
      "metadata": {
        "id": "0FZqM5WZv1HO"
      },
      "execution_count": null,
      "outputs": []
    },
    {
      "cell_type": "markdown",
      "source": [
        "Algo que no hemos visto hasta ahora, son los caracteres especiales.\n",
        "\n",
        "* \\n : salto de linea\n",
        "* \\t : tabulacion\n",
        "\n",
        "Una tabulacion es distinto a un espacio. Si queres saber mas, te dejo este articulo:\n",
        "[Tabulacion](https://economipedia.com/definiciones/tabulacion-de-datos.html)\n"
      ],
      "metadata": {
        "id": "2wPfKQ5xzfd1"
      }
    },
    {
      "cell_type": "code",
      "source": [
        "print(\"Esto se imprimira en una lina \\n y esto en una linea nueva\")\n",
        "\n",
        "print(\"A y B se veran mas separados ahora: A \\t B\")"
      ],
      "metadata": {
        "colab": {
          "base_uri": "https://localhost:8080/"
        },
        "id": "sByxyyPkzuzm",
        "outputId": "febb49a3-81dc-4ace-8d12-24470be7799e"
      },
      "execution_count": null,
      "outputs": [
        {
          "output_type": "stream",
          "name": "stdout",
          "text": [
            "Esto se imprimira en una lina \n",
            " y esto en una linea nueva\n",
            "A y B se veran mas separados ahora: A '\t' B\n"
          ]
        }
      ]
    },
    {
      "cell_type": "markdown",
      "source": [
        "Para introducir una particularidad de los string y como podemos usarlo en print, veamos el siguiente problema:\n",
        "\n",
        "Estoy desarrollando un programa que lista todas las carpetas existentes dentro de mi PC, cuyo sistema operativo es Windows.\n",
        "\n",
        "Los paths (rutas) en Windows lucen asi: C:\\Users\\user\\notas\n",
        "\n",
        "Si yo intento imprimir ese string, obtendre el siguiente resultado:"
      ],
      "metadata": {
        "id": "PoRc-B1C0qeD"
      }
    },
    {
      "cell_type": "code",
      "source": [
        "print('C:\\carpeta\\notas')"
      ],
      "metadata": {
        "colab": {
          "base_uri": "https://localhost:8080/"
        },
        "id": "cjwgzAkt1jfe",
        "outputId": "e11b8f51-6dcb-4e09-a533-2541ce8d04dc"
      },
      "execution_count": null,
      "outputs": [
        {
          "output_type": "stream",
          "name": "stdout",
          "text": [
            "C:\\carpeta\n",
            "otas\n"
          ]
        }
      ]
    },
    {
      "cell_type": "markdown",
      "source": [
        "Obtenemos como resultado una cadena con un salto de linea. Por que? Porque Python encontro este caracter especial en la misma `\\n`\n",
        "\n",
        "Tenemos dos formas de solucionar esto"
      ],
      "metadata": {
        "id": "2-u26Dus2H7J"
      }
    },
    {
      "cell_type": "code",
      "source": [
        "# Usar otro \\ para \"anular\" el caracter especial\n",
        "print('C:\\carpeta\\\\notas')\n",
        "\n",
        "# Usar las cadenas crudas (conocidas como 'raw string'). \n",
        "# Debemos de agregar 'r' (que significaria raw) por delante de la cadena\n",
        "print(r'C:\\carpeta\\notas')"
      ],
      "metadata": {
        "colab": {
          "base_uri": "https://localhost:8080/"
        },
        "id": "IgCoAjbP1wK_",
        "outputId": "e7187d65-e76c-42fd-a464-447fd8d2a530"
      },
      "execution_count": null,
      "outputs": [
        {
          "output_type": "stream",
          "name": "stdout",
          "text": [
            "C:\\carpeta\\notas\n",
            "C:\\carpeta\\notas\n"
          ]
        }
      ]
    },
    {
      "cell_type": "markdown",
      "source": [
        "Como vemos el resultado es el mismo, asi que queda en vos elegir cual te parece mejor.\n",
        "\n",
        "Los \"raw string\" (cadenas crudas) tratan a todos los caracteres de una cadena, como lo que son: caracteres. Esto presenta una ventaja cuando no queremos que `\\n` o `\\t` se interpreten."
      ],
      "metadata": {
        "id": "L4pykTWn2up5"
      }
    },
    {
      "cell_type": "markdown",
      "source": [
        "Otra cosa interesante que podemos hacer con print(), es imprimir varias lineas.\n",
        "\n",
        "Esto es invalido:\n",
        "\n",
        "```\n",
        "print(\"Hola\n",
        "mundo.\n",
        "\")\n",
        "```\n",
        "\n",
        "En una misma linea, tenemos que abrir y cerrar la cadena. \n",
        "\n",
        "Pero si mi string es muy largo y no quiero estar agregando saltos de linea? Como lo soluciono? Tranquil@ que Python penso en eso.\n"
      ],
      "metadata": {
        "id": "GZW3vLnC3sLB"
      }
    },
    {
      "cell_type": "code",
      "source": [
        "print(\"\"\"  \n",
        "Esto es una cadena\n",
        "escrita en mas de una linea y\n",
        "que respetara la forma en que la hayas creado\n",
        "1\n",
        "2\n",
        "3\n",
        "\"\"\")\n",
        "\n",
        "print('''  \n",
        "Esto es otra cadena\n",
        "escrita en mas de una linea pero\n",
        "usando comillas simples para mostrar que\n",
        "tambien se puede\n",
        "1\n",
        "2\n",
        "3\n",
        "''')"
      ],
      "metadata": {
        "id": "mz6en9Ek3reI"
      },
      "execution_count": null,
      "outputs": []
    },
    {
      "cell_type": "markdown",
      "source": [
        "## Variables\n",
        "---\n",
        "Llegamos al punto en que necesitamos guardar de alguna forma valores en nuestro programa para poder accederlos de forma mas facil o simplemente para reutilizarlos mas adelante.\n",
        "\n",
        "\n",
        "En muchos lenguajes de programacion, las variables son espacios en la memoria RAM que referenciamos usando un nombre definido por nosotros, para recuperar o guardar datos (numeros, cadenas, etc)\n",
        "\n",
        "En Python las cosas son un poco distinas puesto que lo que pasa por detras es un poco mas complicado.\n",
        "\n",
        "Al momento de definir una \"variable\", Python crea una \"caja\" llamada __objeto__ (termino que veremos mas adelante). Esta \"caja\" tiene 3 propiedades importantes:\n",
        "\n",
        "* id: identificador unico\n",
        "* type: tipo de dato que almacena el objeto\n",
        "* value: valor que almacena\n",
        "\n",
        "\n",
        "🔽 Aca podes ver como crearlas y ver sus propiedades 🔽"
      ],
      "metadata": {
        "id": "Igt_Ab7D4oY3"
      }
    },
    {
      "cell_type": "code",
      "source": [
        "# Definimos variables\n",
        "edad = 32\n",
        "pais = \"Argentina\"\n",
        "\n",
        "# Ver el ID de la caja\n",
        "print(\"ID de 'edad':\", id(edad) )\n",
        "print(\"ID de 'pais':\", id(pais) )\n",
        "\n",
        "# Ver el tipo de dato del objeto\n",
        "print(\"Tipo de dato de 'edad':\", type(edad) )\n",
        "print(\"Tipo de dato de 'pais':\", type(pais) )\n",
        "\n",
        "# Ver el valor del objeto\n",
        "print( \"Valor de 'edad':\",edad )\n",
        "print( \"Valor de 'pais':\",pais )\n"
      ],
      "metadata": {
        "colab": {
          "base_uri": "https://localhost:8080/"
        },
        "id": "LD7TirOX7b4Z",
        "outputId": "7b777177-44c3-46fa-975b-9e482a13b8da"
      },
      "execution_count": null,
      "outputs": [
        {
          "output_type": "stream",
          "name": "stdout",
          "text": [
            "ID de 'edad': 94121056415200\n",
            "ID de 'pais': 139631167046128\n",
            "Tipo de dato de 'edad': <class 'int'>\n",
            "Tipo de dato de 'pais': <class 'str'>\n",
            "Valor de 'edad': 32\n",
            "Valor de 'pais': Argentina\n"
          ]
        }
      ]
    },
    {
      "cell_type": "markdown",
      "source": [
        "Las variables no guardan datos, sino que son simples nombres  que hacen referencia a objetos.\n",
        "\n",
        "Cuando indicamos la instruccion `pais = \"Argentina\"`, lo que paso fue lo siguiente:\n",
        "\n",
        "Python creo un objeto como este, tomando el valor que le indicamos a la derecha del operador de asignacion (\"=\"):\n",
        "\n",
        "![var.drawio (1).png](data:image/png;base64,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)\n",
        "\n",
        "Y despues realiza la asociacion del objeto con la etiqueta que hemos indicamos a la izquierda del operador de asignacion (\"=\"):\n",
        "\n",
        "![var.drawio.png](data:image/png;base64,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)\n",
        "\n",
        "Ahora, cada vez que llamemos a nuestra variable, Python se encargara de buscar el valor y hacer el reemplazo por nosotros."
      ],
      "metadata": {
        "id": "y8Dr__5c74We"
      }
    },
    {
      "cell_type": "markdown",
      "source": [
        "### Reglas para definir variables\n",
        "\n",
        "Debemos de tener cuidado al momento de crearlas ya que no podemos usar cualquier nombre que se nos ocurra.\n",
        "\n",
        "1. Python es case-sensitive: esto implica que la variable `Hola` es distinta a `hola`\n",
        "2. El nombre de una variable debe de iniciar con una letra o guion bajo\n",
        "3. No es posible usar nombres de funciones o instrucciones de Python: `print = 2+2`\n",
        "4. Los nombres no pueden contener espacios: `nombre y apellido = \"Pedro Lagunas\"`\n",
        "\n",
        "Si bien no es obligatorio, es importante que mantengamos buenas practicas al momento de definir el nombre de una variable. Esto permitira que en un futuro, tanto nosotros como otr@s colegas, podamos entender el codigo de una forma mas facil.\n",
        "\n",
        "Una practica habitual en Python, es usar el snake_case que consiste en separar las partes del nombre de una variable con guiones bajos segun corresponda. Por ejemplo: `nombre_y_apellido`"
      ],
      "metadata": {
        "id": "d9RI5EI8A7aI"
      }
    },
    {
      "cell_type": "markdown",
      "source": [
        "## Funcion input()\n",
        "---\n",
        "Con la funcion `print()` hemos podido mostrarle informacion a nuestros usuarios. Pero en la mayoria de los casos, tambien es necesario que este interactue con el programa otorgando datos.\n",
        "\n",
        "Como? Con la funcion `input()` que nos ofrece Python\n",
        "\n",
        "La forma de usar esta funcion es super sencilla:\n",
        "\n",
        "`nombre = input(\"Ingrese su nombre: \")`\n",
        "\n",
        "Puede recibir opcionalemente un string que mostrara por pantalla\n",
        "\n",
        "\n",
        "Cuando Python encuentra esta instruccion, pausa el programa y comienza a registrar todas la teclas que el usuario pulse, hasta que este presione la tecla Enter. Cuando eso pase, la funcion devolvera un string que contiene todos los caractares correspondientes a las teclas que presiono el usuario en el orden en que lo hizo. Este valor puede ser almacenado en una variable."
      ],
      "metadata": {
        "id": "0WpJu-sOJryE"
      }
    },
    {
      "cell_type": "code",
      "source": [
        "# Devuelve lo ingresado por el usuario\n",
        "nombre = input(\"Ingrese su nombre: \")\n",
        "\n",
        "# Todas estas llamadas a la funcion tambien retornan valores pero no son\n",
        "# almacenados en ningun lado\n",
        "input() # como vemos el mensaje es opcional\n",
        "\n",
        "input(\"Presione cualquier tecla antes del Enter\")\n",
        "\n",
        "# Verificamos el contenido de la variable\n",
        "print(\"El usuario se llama: \", nombre)"
      ],
      "metadata": {
        "id": "Oe6Chk4GK361"
      },
      "execution_count": null,
      "outputs": []
    },
    {
      "cell_type": "markdown",
      "source": [
        "Evaluemos un momento una cosa que escribimos antes \"devuelve un string\".\n",
        "\n",
        "Pero que pasa si quiero realizar operaciones matematicas con lo que introduzca el usuario?\n",
        "\n",
        "Veamos 🔽"
      ],
      "metadata": {
        "id": "vofIN_cXK-s7"
      }
    },
    {
      "cell_type": "code",
      "source": [
        "numero_1 = input(\"Ingrese el primer numero: \")\n",
        "numero_2 = input(\"Ingrese el segundo numero: \")\n",
        "\n",
        "resultado = numero_1 + numero_2\n",
        "print(\"El resultado es: \", resultado)"
      ],
      "metadata": {
        "colab": {
          "base_uri": "https://localhost:8080/"
        },
        "id": "aOJ_hDICMQex",
        "outputId": "5af14e73-e86c-4309-c36a-ea1d37fde1b4"
      },
      "execution_count": null,
      "outputs": [
        {
          "output_type": "stream",
          "name": "stdout",
          "text": [
            "Ingrese el primer numero: 2\n",
            "Ingrese el segundo numero: 2\n",
            "El resultado es:  22\n"
          ]
        }
      ]
    },
    {
      "cell_type": "markdown",
      "source": [
        "Si introducimos el 2 y luego de nuevo el 2, en el anterior programa, esperariamos que el resultado fuera 4 y no 22.\n",
        "\n",
        "Esto se debe a que al ser strings, Python aplica una operacion sobre este tipo de dato. Los operadores aritmeticos se comportan distinto segun el tipo de dato con el que esten lidiando.\n",
        "\n",
        "En el caso de los strings, como vemos, concatena los valores.\n",
        "\n",
        "Como solucionamos esto?"
      ],
      "metadata": {
        "id": "RgdkWbr9MP-j"
      }
    },
    {
      "cell_type": "markdown",
      "source": [
        "## Conversion de tipos de datos\n",
        "\n",
        "En Python podemos hacer algo que se conoce como \"Conversion de tipos\". Se trata de convertir un tipo de dato en otro.\n",
        "\n",
        "Veamos mas ejemplos de esto:"
      ],
      "metadata": {
        "id": "uyPIycniKex9"
      }
    },
    {
      "cell_type": "code",
      "source": [
        "numero_string = input(\"Ingrese un numero: \")\n",
        "\n",
        "numero_int = int(numero_string)\n",
        "numero_float = float(numero_string)\n",
        "\n",
        "resultado_int = numero_int * 2\n",
        "resultado_float = numero_float * 2\n",
        "\n",
        "\n",
        "print(\"Resultado Entero: \", resultado_int, \"Tipo de dato: \", type(numero_int))\n",
        "print(\"Resultado Decimal: \", resultado_float, \"Tipo de dato: \",type(numero_float))\n",
        "print(\"Tipo de dato de la variable original:\", type(numero_string))\n"
      ],
      "metadata": {
        "colab": {
          "base_uri": "https://localhost:8080/"
        },
        "id": "kMZh4yjDM_vs",
        "outputId": "c074fad9-13f5-4b91-e1e9-4353a674eb5b"
      },
      "execution_count": null,
      "outputs": [
        {
          "output_type": "stream",
          "name": "stdout",
          "text": [
            "Ingrese un numero: 2\n",
            "Resultado Entero:  4 Tipo de dato:  <class 'int'>\n",
            "Resultado Decimal:  4.0 Tipo de dato:  <class 'float'>\n",
            "Tipo de dato de la variable original: <class 'str'>\n"
          ]
        }
      ]
    },
    {
      "cell_type": "markdown",
      "source": [
        "El tipo de dato de numero_string, como su nombre lo indica, es string. Pero con las instrucciones anteriores hemos logrado convertirlo a otro tipo de dato y almacenar su valor en otras variables con tipos de datos distintos.\n",
        "\n",
        "Pero esto no afecta a la variable original.\n",
        "\n",
        "Que pasa si queremos evitarnos tantas lineas?\n",
        "\n",
        "Podemos hacerlo asi:"
      ],
      "metadata": {
        "id": "zbA74AzKNtWp"
      }
    },
    {
      "cell_type": "code",
      "source": [
        "numero_int = int(input(\"Ingrese un numero: \"))\n",
        "\n",
        "resultado = numero_int * 2\n",
        "\n",
        "print(\"Resultado Entero: \", resultado_int, \"Tipo de dato: \", type(numero_int))"
      ],
      "metadata": {
        "id": "LJWDs097OLAo"
      },
      "execution_count": null,
      "outputs": []
    },
    {
      "cell_type": "markdown",
      "source": [
        "Cuando el usuario presione la tecla Enter, el string sera enviado a la funcion int() encargada de convertir eso en un numero entero. Cuando la funcion int() haya terminado, devolvera el valor correspondiente que sera almacenado en la variable numero_int"
      ],
      "metadata": {
        "id": "RONV78ZiOY8O"
      }
    },
    {
      "cell_type": "markdown",
      "source": [
        "## Operaciones Aritmeticas\n",
        "---\n",
        "Que operaciones matematicas puedo realizar con variables?\n",
        "\n",
        "Las que quieras, utilizando todos los operadores que hemos visto hasta ahora.\n",
        "\n",
        "Hagamos una calculadora para comprobarlo ✍"
      ],
      "metadata": {
        "id": "FKi6EOusO0Ue"
      }
    },
    {
      "cell_type": "code",
      "source": [
        "numero_1 = float(input(\"Ingrese el primer numero: \"))\n",
        "numero_2 = float(input(\"Ingrese el segundo numero: \"))\n",
        "\n",
        "print(\"Suma: \", numero_1 + numero_2)\n",
        "print(\"Resta: \", numero_1 - numero_2)\n",
        "print(\"Multiplicacion: \", numero_1 * numero_2)\n",
        "print(\"Division: \", numero_1 / numero_2)\n",
        "print(\"Division Entera: \", numero_1 // numero_2)\n",
        "print(\"Potencia: \", numero_1 ** numero_2)\n",
        "print(\"Resto de Division: \", numero_1 % numero_2)"
      ],
      "metadata": {
        "id": "k2BiScZFOzl7"
      },
      "execution_count": null,
      "outputs": []
    },
    {
      "cell_type": "markdown",
      "source": [
        "## Indexacion de Strings\n",
        "---\n",
        "Anteriormente dijimos que un string era un conjunto de caracteres.\n",
        "\n",
        "Cada caracter dentro de un string, tiene asignado una posicion en el, conocida como indice. Este indice es numerico y es entero.\n",
        "\n",
        "![var.drawio (3).png](data:image/png;base64,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)\n",
        "\n",
        "Como podemos observar, la cadena \"PYTHON\" tiene indices que inician en CERO y finaliza en CINCO\n",
        "\n",
        "Estos indices nos permitiran acceder a un caracter en especifico. Para ello debemos hacer uso de los corchetes y el valor del indice, como vemos en el ejemplo 🔽"
      ],
      "metadata": {
        "id": "1gYogf2QPwXe"
      }
    },
    {
      "cell_type": "code",
      "source": [
        "lenguaje = \"PYTHON\"\n",
        "\n",
        "print(lenguaje[1])"
      ],
      "metadata": {
        "id": "l-YOX7qeRoAU"
      },
      "execution_count": null,
      "outputs": []
    },
    {
      "cell_type": "markdown",
      "source": [
        "En Python el primer indice de los strings, es siempre CERO y el ultimo es el resultado de calcular la cantidad de caracteres y restarle 1.\n",
        "\n",
        "* Cantidad de caracteres de PYTHON: 6\n",
        "* Primer indice: 0\n",
        "* Ultimo indice: 6 - 1\n",
        "\n",
        "Una cosa curiosa es que los indices pueden ser negativos 🤯\n",
        "Para que? Con ellos podremos recorrer el string de forma inversa.\n",
        "El ultimo caracter es siempre -1, el anteultimo es -2, y asi sucesivamente.\n",
        "\n",
        "![var.drawio (4).png](data:image/png;base64,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)\n",
        "\n"
      ],
      "metadata": {
        "id": "l2bbHBC8SvKG"
      }
    },
    {
      "cell_type": "code",
      "source": [
        "lenguaje = \"PYTHON\"\n",
        "\n",
        "# Ultimo caracter\n",
        "print(lenguaje[5])\n",
        "print(lenguaje[-1])\n",
        "\n",
        "\n",
        "# Primer caracter\n",
        "print(lenguaje[0])\n",
        "print(lenguaje[-6])\n"
      ],
      "metadata": {
        "colab": {
          "base_uri": "https://localhost:8080/"
        },
        "id": "ecvovQkoTfid",
        "outputId": "8d41d246-4af9-426a-d770-ee7f04a67498"
      },
      "execution_count": null,
      "outputs": [
        {
          "output_type": "stream",
          "name": "stdout",
          "text": [
            "N\n",
            "N\n",
            "P\n",
            "P\n"
          ]
        }
      ]
    },
    {
      "cell_type": "markdown",
      "source": [
        "## Longitud de strings\n",
        "---\n",
        "Python posee muchas funciones para trabajar con strings. En esta ocasion vamos a conocer a `len()`\n",
        "\n",
        "Se trata de una funcion que recibe un string y devuelve un valor numerico que representa la cantidad de caracteres de la cadena.\n"
      ],
      "metadata": {
        "id": "rwzosvhUUewN"
      }
    },
    {
      "cell_type": "code",
      "source": [
        "cadena = \"Hola mundo!\"\n",
        "\n",
        "longitud = len(cadena)\n",
        "\n",
        "print( \"Tipo de dato: \", type(longitud), \"Valor: \", longitud )\n"
      ],
      "metadata": {
        "colab": {
          "base_uri": "https://localhost:8080/"
        },
        "id": "rxdtx2e1U1qS",
        "outputId": "70fe2007-fe89-4bde-9d5a-aba68ad2da9f"
      },
      "execution_count": null,
      "outputs": [
        {
          "output_type": "stream",
          "name": "stdout",
          "text": [
            "Tipo de dato:  <class 'int'> Valor:  11\n"
          ]
        }
      ]
    },
    {
      "cell_type": "markdown",
      "source": [
        "## Slicing\n",
        "---\n",
        "El slicing (rebanando) como su nombre lo indica, nos permite cortar un string en porciones.\n",
        "\n",
        "La notacion utilizada es la siguiente: [inicio:fin:paso]\n",
        "\n",
        "* Inicio: es el indice por donde queres comenzar el corte\n",
        "* Fin: es el indice del ultimo caracter al que queremos llegar. Este no se incluira\n",
        "* Paso: es un valor que indica cada cuantos caracteres hay que rebanar\n",
        "\n",
        "Si no colocamos ciertos valores, Python lo hace por nosotros.\n",
        "\n",
        "* Si no colocamos el \"paso\", Python rebanara el string cada 1 caracter.\n",
        "* Si no colocamos el \"inicio\", Python rebanara el string desde el indice CERO\n",
        "* Si no colocamos el \"fin\", Python rebanara el string hasta el ultimo indice"
      ],
      "metadata": {
        "id": "1uoBOKJGVJdS"
      }
    },
    {
      "cell_type": "code",
      "source": [
        "lenguaje = \"Python\"\n",
        "\n",
        "\n",
        "# Omitiendo el PASO, rebanamos los primeros tres caracteres\n",
        "print(lenguaje[0:3])\n",
        "\n",
        "\n",
        "# Con el paso en -1, el string se recorrera en reversa.\n",
        "# Rebanamos los ultimos tres digitos\n",
        "print(lenguaje[-1:-4:-1])\n",
        "\n",
        "# Omitiendo el incio, rebanamos los primeros 2 caracteres\n",
        "print(lenguaje[:2])\n",
        "\n",
        "# Omitiendo el fin, rebanamos los ultimos 2 caracteres\n",
        "print(lenguaje[4:])\n",
        "\n",
        "# Omitiendo todo, obtenemos la cadena completa\n",
        "print(lenguaje[:])\n",
        "\n",
        "# Omitiendo inicio y fin pero con paso -1, obtenemos la cadena completa invertida\n",
        "print(lenguaje[::-1])\n"
      ],
      "metadata": {
        "colab": {
          "base_uri": "https://localhost:8080/"
        },
        "id": "g1IuLcFjVx0O",
        "outputId": "6cf9d244-9919-4e47-c3c9-23156a786fb5"
      },
      "execution_count": null,
      "outputs": [
        {
          "output_type": "stream",
          "name": "stdout",
          "text": [
            "Pyt\n",
            "noh\n",
            "Py\n",
            "on\n",
            "Python\n",
            "nohtyP\n"
          ]
        }
      ]
    },
    {
      "cell_type": "markdown",
      "source": [
        "## Mutabilidad\n",
        "---\n",
        "Imaginemos la siguiente cadena: `\"Yo conduzco un camiom\"`\n",
        "\n",
        "Como podemos obervar, el ultimo caracter no es el correcto. Dado que soy un excelente programador/a, decido escribir una instruccion que reemplace eso para que el cliente no lo vea"
      ],
      "metadata": {
        "id": "AYm2_QGeXxX4"
      }
    },
    {
      "cell_type": "code",
      "source": [
        "cadena = \"Yo conduzco un camiom\"\n",
        "\n",
        "cadena[-1] = \"n\""
      ],
      "metadata": {
        "colab": {
          "base_uri": "https://localhost:8080/",
          "height": 200
        },
        "id": "yAAWRlBnYP8K",
        "outputId": "5fefd900-7afe-4913-f03c-c6d30bbe7438"
      },
      "execution_count": null,
      "outputs": [
        {
          "output_type": "error",
          "ename": "TypeError",
          "evalue": "ignored",
          "traceback": [
            "\u001b[0;31m---------------------------------------------------------------------------\u001b[0m",
            "\u001b[0;31mTypeError\u001b[0m                                 Traceback (most recent call last)",
            "\u001b[0;32m<ipython-input-37-8d10b7cd4b18>\u001b[0m in \u001b[0;36m<module>\u001b[0;34m()\u001b[0m\n\u001b[1;32m      1\u001b[0m \u001b[0mcadena\u001b[0m \u001b[0;34m=\u001b[0m \u001b[0;34m\"Yo conduzco un camiom\"\u001b[0m\u001b[0;34m\u001b[0m\u001b[0;34m\u001b[0m\u001b[0m\n\u001b[1;32m      2\u001b[0m \u001b[0;34m\u001b[0m\u001b[0m\n\u001b[0;32m----> 3\u001b[0;31m \u001b[0mcadena\u001b[0m\u001b[0;34m[\u001b[0m\u001b[0;34m-\u001b[0m\u001b[0;36m1\u001b[0m\u001b[0;34m]\u001b[0m \u001b[0;34m=\u001b[0m \u001b[0;34m\"n\"\u001b[0m\u001b[0;34m\u001b[0m\u001b[0;34m\u001b[0m\u001b[0m\n\u001b[0m",
            "\u001b[0;31mTypeError\u001b[0m: 'str' object does not support item assignment"
          ]
        }
      ]
    },
    {
      "cell_type": "markdown",
      "source": [
        "Ha fallado... pero como?\n",
        "\n",
        "Bueno, en Python existe un concepto concocido como \"mutabilidad\". Se trata de una propiedad que tienen los conjuntos de datos y los string, y define si puedo o no cambiar el valor de uno de sus indices.\n",
        "\n",
        "En Python los strings, son inmutables.\n",
        "\n",
        "Y ahora como lo arreglo antes de que lo use el cliente?\n",
        "\n",
        "Con slicing"
      ],
      "metadata": {
        "id": "s-S5oK5dYYGA"
      }
    },
    {
      "cell_type": "code",
      "source": [
        "cadena = \"Yo conduzco un camiom\"\n",
        "\n",
        "cadena = cadena[:20] + \"n\"\n",
        "\n",
        "print(cadena)"
      ],
      "metadata": {
        "colab": {
          "base_uri": "https://localhost:8080/"
        },
        "id": "EYJ6qsGLY3Md",
        "outputId": "89d07a3e-7b6c-433d-bc23-a8b893d2b211"
      },
      "execution_count": null,
      "outputs": [
        {
          "output_type": "stream",
          "name": "stdout",
          "text": [
            "Yo conduzco un camion\n"
          ]
        }
      ]
    },
    {
      "cell_type": "markdown",
      "source": [
        "## Format String\n",
        "\n",
        "Por ultimo, podemos hacer uso de los \"format string\", una nueva forma de \"inyectar\" o concatenar (como prefieras decirle) strings con otros strings\n",
        "\n",
        "_WHAT!!_\n",
        "\n",
        "Si! Asi como lo lees.\n",
        "\n",
        "Su uso es simple: similar a los \"raw string\" debemos colocar un caracter especial por delante de las comillas, y este es `f`\n",
        "\n",
        "Dentro del string debemos encerrar entre llaves lo que queremos que se \"concatene\".\n",
        "\n",
        "Mira este ejemplo:"
      ],
      "metadata": {
        "id": "0arTPRxDLOFr"
      }
    },
    {
      "cell_type": "code",
      "source": [
        "usuario = input(\"Ingrese su usuario: \")\n",
        "\n",
        "cant_notificaciones = 5\n",
        "\n",
        "print(f\"Bienvenid@ {usuario}\")\n",
        "\n",
        "mensaje = f\"{usuario} tiene {cant_notificaciones} notificaciones\"\n",
        "print(mensaje)"
      ],
      "metadata": {
        "id": "tWFlMiQMLQ4R"
      },
      "execution_count": null,
      "outputs": []
    }
  ]
}