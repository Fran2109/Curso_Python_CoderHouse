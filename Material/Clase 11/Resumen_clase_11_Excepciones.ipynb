{
  "nbformat": 4,
  "nbformat_minor": 0,
  "metadata": {
    "colab": {
      "provenance": []
    },
    "kernelspec": {
      "name": "python3",
      "display_name": "Python 3"
    },
    "language_info": {
      "name": "python"
    }
  },
  "cells": [
    {
      "cell_type": "markdown",
      "source": [
        "# Excepciones\n",
        "\n",
        "![pexels-ann-h-1888015.jpg](data:image/jpeg;base64,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)"
      ],
      "metadata": {
        "id": "fWiKCnOnuY90"
      }
    },
    {
      "cell_type": "markdown",
      "source": [
        "## De los errores se aprenden, de las excepciones aun mas\n",
        "\n",
        "Lo primero que debemos de aprender, es a diferenciar los errores de las excepciones."
      ],
      "metadata": {
        "id": "ohHLr2MNub6m"
      }
    },
    {
      "cell_type": "markdown",
      "source": [
        "### Errores sintacticos\n",
        "\n",
        "Se tratan de errores en la sintaxis, es decir, en la forma en que escribimos las instrucciones.\n",
        "\n",
        "Por ejemplo:\n",
        "* Cerrar mal un parentesis\n",
        "* Mal uso de las comillas en las cadenas\n",
        "* Tabular mal el codigo\n",
        "* etc.\n",
        "\n",
        "Todos estos errores, aparecen antes de que el programa se ejecute gracias al analizador de sintaxis de Python."
      ],
      "metadata": {
        "id": "ZtuD4kceunz9"
      }
    },
    {
      "cell_type": "code",
      "execution_count": null,
      "metadata": {
        "colab": {
          "base_uri": "https://localhost:8080/",
          "height": 130
        },
        "id": "J8kUcW0CsYif",
        "outputId": "b64aa412-47ea-483f-d5d9-558f38840d54"
      },
      "outputs": [
        {
          "output_type": "error",
          "ename": "SyntaxError",
          "evalue": "ignored",
          "traceback": [
            "\u001b[0;36m  File \u001b[0;32m\"<ipython-input-1-b05437ee445f>\"\u001b[0;36m, line \u001b[0;32m1\u001b[0m\n\u001b[0;31m    print(\"Hola\"\u001b[0m\n\u001b[0m                ^\u001b[0m\n\u001b[0;31mSyntaxError\u001b[0m\u001b[0;31m:\u001b[0m unexpected EOF while parsing\n"
          ]
        }
      ],
      "source": [
        "print(\"Hola\""
      ]
    },
    {
      "cell_type": "markdown",
      "source": [
        "### Errores semanticos\n",
        "\n",
        "Por otro lado, tenemos los errores semanticos, que son aquellos que aparecen cuando nuestro programa se encuentra corriendo.\n",
        "\n",
        "Ya no se debe a un error en la forma de escribir el codigo, sino mas bien al uso del lenguaje.\n",
        "\n",
        "Veamos unos ejemplos 🔽"
      ],
      "metadata": {
        "id": "PnWheasHvHns"
      }
    },
    {
      "cell_type": "code",
      "source": [
        "lista = []\n",
        "\n",
        "lista.pop()"
      ],
      "metadata": {
        "colab": {
          "base_uri": "https://localhost:8080/",
          "height": 200
        },
        "id": "M50xm-yyvGPQ",
        "outputId": "cc1246e6-de33-47de-f7b5-d9f4c36e1d09"
      },
      "execution_count": null,
      "outputs": [
        {
          "output_type": "error",
          "ename": "IndexError",
          "evalue": "ignored",
          "traceback": [
            "\u001b[0;31m---------------------------------------------------------------------------\u001b[0m",
            "\u001b[0;31mIndexError\u001b[0m                                Traceback (most recent call last)",
            "\u001b[0;32m<ipython-input-2-2bb7af0c9754>\u001b[0m in \u001b[0;36m<module>\u001b[0;34m()\u001b[0m\n\u001b[1;32m      1\u001b[0m \u001b[0mlista\u001b[0m \u001b[0;34m=\u001b[0m \u001b[0;34m[\u001b[0m\u001b[0;34m]\u001b[0m\u001b[0;34m\u001b[0m\u001b[0;34m\u001b[0m\u001b[0m\n\u001b[1;32m      2\u001b[0m \u001b[0;34m\u001b[0m\u001b[0m\n\u001b[0;32m----> 3\u001b[0;31m \u001b[0mlista\u001b[0m\u001b[0;34m.\u001b[0m\u001b[0mpop\u001b[0m\u001b[0;34m(\u001b[0m\u001b[0;34m)\u001b[0m\u001b[0;34m\u001b[0m\u001b[0;34m\u001b[0m\u001b[0m\n\u001b[0m",
            "\u001b[0;31mIndexError\u001b[0m: pop from empty list"
          ]
        }
      ]
    },
    {
      "cell_type": "code",
      "source": [
        "a = int(input(\"Ingrese un numero: \"))\n",
        "\n",
        "b = 2\n",
        "\n",
        "print(b//a)"
      ],
      "metadata": {
        "colab": {
          "base_uri": "https://localhost:8080/",
          "height": 217
        },
        "id": "yMfA3PYqve6d",
        "outputId": "8db03d04-4fa0-4c94-bcae-ed7da9fc50a1"
      },
      "execution_count": null,
      "outputs": [
        {
          "name": "stdout",
          "output_type": "stream",
          "text": [
            "Ingrese un numero: 0\n"
          ]
        },
        {
          "output_type": "error",
          "ename": "ZeroDivisionError",
          "evalue": "ignored",
          "traceback": [
            "\u001b[0;31m---------------------------------------------------------------------------\u001b[0m",
            "\u001b[0;31mZeroDivisionError\u001b[0m                         Traceback (most recent call last)",
            "\u001b[0;32m<ipython-input-4-0b465b0c3ada>\u001b[0m in \u001b[0;36m<module>\u001b[0;34m()\u001b[0m\n\u001b[1;32m      3\u001b[0m \u001b[0mb\u001b[0m \u001b[0;34m=\u001b[0m \u001b[0;36m2\u001b[0m\u001b[0;34m\u001b[0m\u001b[0;34m\u001b[0m\u001b[0m\n\u001b[1;32m      4\u001b[0m \u001b[0;34m\u001b[0m\u001b[0m\n\u001b[0;32m----> 5\u001b[0;31m \u001b[0mprint\u001b[0m\u001b[0;34m(\u001b[0m\u001b[0mb\u001b[0m\u001b[0;34m//\u001b[0m\u001b[0ma\u001b[0m\u001b[0;34m)\u001b[0m\u001b[0;34m\u001b[0m\u001b[0;34m\u001b[0m\u001b[0m\n\u001b[0m",
            "\u001b[0;31mZeroDivisionError\u001b[0m: integer division or modulo by zero"
          ]
        }
      ]
    },
    {
      "cell_type": "markdown",
      "source": [
        "## Excepciones\n",
        "\n",
        "Las excepciones son errores que aparecen durante la ejecucion de nuestro programa.\n",
        "\n",
        "Los vimos recien: los errores semanticos.\n",
        "\n",
        "Hasta el momento, estos errores son fatales puesto que hacian que todo nuestro programa fallara. Pero ya no mas 😊"
      ],
      "metadata": {
        "id": "Ky7PHUzCvw-V"
      }
    },
    {
      "cell_type": "markdown",
      "source": [
        "Es dificil prevenir fallos que ni siquiera sabemos que estan ahi.\n",
        "\n",
        "Por suerte, contamos con unas instrucciones que nos salvaran en estas situaciones"
      ],
      "metadata": {
        "id": "hGRQ0aNQxo3N"
      }
    },
    {
      "cell_type": "markdown",
      "source": [
        "## try-except\n",
        "\n",
        "Tanto la instruccion `try` como la instruccion `except`, reciben un bloque de codigo.\n",
        "\n",
        "El bloque `try` intentara ejecutar el codigo contenido en el. En caso de lanzarse una excepcion, se ejecutaran las instrucciones contenidas en el bloque `except`."
      ],
      "metadata": {
        "id": "v3lzyFQhx8jb"
      }
    },
    {
      "cell_type": "code",
      "source": [
        "try:\n",
        "\n",
        "  a = int(input(\"Ingrese un numero: \"))\n",
        "  b = 2\n",
        "\n",
        "  print(b//a)\n",
        "\n",
        "except:\n",
        "  print(\"En alguna parte, tu programa fallo\")\n",
        "\n",
        "print(\"Pero no importa, porque el resto sigue funcionando\")\n",
        "print(\"Como estos mensajes\")"
      ],
      "metadata": {
        "colab": {
          "base_uri": "https://localhost:8080/"
        },
        "id": "ryFG7KJExmgy",
        "outputId": "74bfb86a-1c1f-4e58-becd-93aeb6eacc8a"
      },
      "execution_count": null,
      "outputs": [
        {
          "output_type": "stream",
          "name": "stdout",
          "text": [
            "Ingrese un numero: 0\n",
            "En alguna parte, tu programa fallo\n",
            "Pero no importa, porque el resto sigue funcionando\n",
            "Como estos mensajes\n"
          ]
        }
      ]
    },
    {
      "cell_type": "markdown",
      "source": [
        "Al ingresar el cero, Python intento resolver la operacion $2/0$ que, como sabemos, no se puede. Por lo tanto, lanza una excepcion.\n",
        "\n",
        "Esa excepcion es detectada y capturada por el bloque `except`, quien comienza a ejecutar las instrucciones contenidas en el."
      ],
      "metadata": {
        "id": "DdzhpF0NyjwA"
      }
    },
    {
      "cell_type": "markdown",
      "source": [
        "Por ahora nuestro bloque `except` es bastante generico, es decir, que cualquier excepcion encontrada, ejecutara el mismo bloque de codigo."
      ],
      "metadata": {
        "id": "mt_scpO4y42_"
      }
    },
    {
      "cell_type": "code",
      "source": [
        "try:\n",
        "\n",
        "  a = int(input(\"Ingrese un numero: \"))\n",
        "  a +=1\n",
        "  b = 2\n",
        "\n",
        "  print(b//a)\n",
        "\n",
        "  # Error: lista esta vacia\n",
        "  lista = []\n",
        "  lista.pop()\n",
        "\n",
        "except:\n",
        "  print(\"En alguna parte, tu programa fallo\")\n",
        "\n",
        "print(\"Pero no importa, porque el resto sigue funcionando\")\n",
        "print(\"Como estos mensajes\")"
      ],
      "metadata": {
        "colab": {
          "base_uri": "https://localhost:8080/"
        },
        "id": "5nbeImqn6OjL",
        "outputId": "d364ae4c-9516-470a-ae5e-4f8850c1e22a"
      },
      "execution_count": null,
      "outputs": [
        {
          "output_type": "stream",
          "name": "stdout",
          "text": [
            "Ingrese un numero: 0\n",
            "2\n",
            "En alguna parte, tu programa fallo\n",
            "Pero no importa, porque el resto sigue funcionando\n",
            "Como estos mensajes\n"
          ]
        }
      ]
    },
    {
      "cell_type": "markdown",
      "source": [
        "Pero que pasa en las situaciones donde queremos tomar distintas medidas dependiendo del tipo de error? \n",
        "\n",
        "Tranquilo/a, podemos decirle a `except` que tipo de excepcion capturar y con ello, que codigo ejecutar."
      ],
      "metadata": {
        "id": "1fV9Bwmx6eq1"
      }
    },
    {
      "cell_type": "code",
      "source": [
        "try:\n",
        "\n",
        "  a = int(input(\"Ingrese un numero: \"))\n",
        "  b = 2\n",
        "\n",
        "  print(b//a)\n",
        "\n",
        "  # esto generara un fallo\n",
        "  lista = []\n",
        "  lista.pop()\n",
        "\n",
        "except ZeroDivisionError:\n",
        "  print(\"No es posible didivir un numero entre CERO\")\n",
        "\n",
        "print(\"Sigo funcionando\")"
      ],
      "metadata": {
        "colab": {
          "base_uri": "https://localhost:8080/"
        },
        "id": "UO1EKKynyg02",
        "outputId": "fb425536-6fdb-4c32-ceee-507b9608ec19"
      },
      "execution_count": null,
      "outputs": [
        {
          "output_type": "stream",
          "name": "stdout",
          "text": [
            "Ingrese un numero: 0\n",
            "No es posible didivir un numero entre CERO\n",
            "Sigo funcionando\n"
          ]
        }
      ]
    },
    {
      "cell_type": "markdown",
      "source": [
        "Ahora el bloque `except` actuara solo cuando el bloque `try` falle debido a intentar dividir un numero entre cero (`ZeroDivisionError`)\n",
        "\n",
        "\n"
      ],
      "metadata": {
        "id": "7ppcDZaT6nGU"
      }
    },
    {
      "cell_type": "markdown",
      "source": [
        "Si ejecutamos el bloque de mas arriba e introducimos un cero, la operacion aritmetica dentro del `print` generara una excepcion que hara que toda la ejecucion finalice.\n",
        "\n",
        "Lo proximo que hara Python, es buscar un bloque `except` que capture el tipo de excepcion lanzada (ZeroDivisionError). Si la encuentra, ejecuta el codigo. Si no la encuentra, seguira buscando en niveles jerarquicos superiores.\n",
        "Si no encuentra el blque en el nivel mas alto, simplemente todo el programa fallara puesto que no existe un bloque `try-except` que maneje la excepcion."
      ],
      "metadata": {
        "id": "FK29X-vnzuLT"
      }
    },
    {
      "cell_type": "markdown",
      "source": [
        "Aca te dejo algunas de las excepciones mas usadas para que investigues un poco mas\n",
        "\n",
        "![image.png](data:image/png;base64,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)"
      ],
      "metadata": {
        "id": "VGYqZM_35sC0"
      }
    },
    {
      "cell_type": "markdown",
      "source": [
        "## ELSE\n",
        "\n",
        "Al igual que en otras estructuras, el bloque try-except cuenta con la instruccion `else` que nos permite ejecutar un bloque de codigo cuando todo el bloque de `try` haya finalizado sin problemas, es decir, no se haya lanzado ninguna excepcion."
      ],
      "metadata": {
        "id": "tbztLjtX0j_h"
      }
    },
    {
      "cell_type": "code",
      "source": [
        "\n",
        "try:\n",
        "  a = int(input(\"Ingrese un numero: \"))\n",
        "  b = 2\n",
        "\n",
        "  print(b//a)\n",
        "  \n",
        "except ZeroDivisionError:\n",
        "  print(\"No es posible didivir un numero entre CERO\")\n",
        "else:\n",
        "  print(\"Codigo ejecutado con exito\")\n",
        "\n",
        "print(\"Continuamos con el resto del programa . . .\")"
      ],
      "metadata": {
        "colab": {
          "base_uri": "https://localhost:8080/"
        },
        "id": "tQt1TLirzqJT",
        "outputId": "93f8f717-aa4c-4784-bd07-f6916093b0d8"
      },
      "execution_count": null,
      "outputs": [
        {
          "output_type": "stream",
          "name": "stdout",
          "text": [
            "Ingrese un numero: 2\n",
            "1\n",
            "Codigo ejecutado con exito\n",
            "Continuamos con el resto del programa . . .\n"
          ]
        }
      ]
    },
    {
      "cell_type": "markdown",
      "source": [
        "## FINALLY\n",
        "\n",
        "A diferencia del bloque `else`, el bloque `finally` se ejecuta siempre. No importa si el bloque `try` fallo o no."
      ],
      "metadata": {
        "id": "QnsQnzyP1Bwi"
      }
    },
    {
      "cell_type": "code",
      "source": [
        "try:\n",
        "  a = int(input(\"Ingrese un numero: \"))\n",
        "  b = 2\n",
        "\n",
        "  print(b//a)\n",
        "  \n",
        "except ZeroDivisionError:\n",
        "  print(\"No es posible didivir un numero entre CERO\")\n",
        "else:\n",
        "  print(\"Codigo ejecutado con exito\")\n",
        "finally:\n",
        "  print(\"Pase lo que pase, yo me ejecuto\")\n",
        "\n",
        "print(\"Continuamos con el resto del programa . . .\")"
      ],
      "metadata": {
        "colab": {
          "base_uri": "https://localhost:8080/"
        },
        "id": "y0F6jal20-wA",
        "outputId": "7fdc3671-367f-46c4-8113-75d6c55feec8"
      },
      "execution_count": null,
      "outputs": [
        {
          "output_type": "stream",
          "name": "stdout",
          "text": [
            "Ingrese un numero: 2\n",
            "1\n",
            "Codigo ejecutado con exito\n",
            "Pase lo que pase, yo me ejecuto\n",
            "Continuamos con el resto del programa . . .\n"
          ]
        }
      ]
    },
    {
      "cell_type": "code",
      "source": [
        "try:\n",
        "  a = int(input(\"Ingrese un numero: \"))\n",
        "  b = 2\n",
        "\n",
        "  print(b//a)\n",
        "  \n",
        "except ZeroDivisionError:\n",
        "  print(\"No es posible didivir un numero entre CERO\")\n",
        "else:\n",
        "  print(\"Codigo ejecutado con exito\")\n",
        "finally:\n",
        "  print(\"Pase lo que pase, yo me ejecuto\")\n",
        "\n",
        "print(\"Continuamos con el resto del programa . . .\")"
      ],
      "metadata": {
        "colab": {
          "base_uri": "https://localhost:8080/"
        },
        "id": "DvWUIe2F1RY-",
        "outputId": "f1dc06f6-0b66-44d4-ce4e-13dfa1b42064"
      },
      "execution_count": null,
      "outputs": [
        {
          "output_type": "stream",
          "name": "stdout",
          "text": [
            "Ingrese un numero: 0\n",
            "No es posible didivir un numero entre CERO\n",
            "Pase lo que pase, yo me ejecuto\n",
            "Continuamos con el resto del programa . . .\n"
          ]
        }
      ]
    },
    {
      "cell_type": "markdown",
      "source": [
        "## Excepciones multiples\n",
        "\n",
        "Podemos capturar multiples excepciones. \n",
        "\n",
        "De que forma? Colocando bloques `except` uno abajo de otro, como haciamos con los `elif`"
      ],
      "metadata": {
        "id": "DqNg2aw11iE9"
      }
    },
    {
      "cell_type": "code",
      "source": [
        "try:\n",
        "  a = int(input(\"Ingrese un numero: \"))\n",
        "  b = 2\n",
        "\n",
        "  print(b//a)\n",
        "\n",
        "  lista = []\n",
        "  lista.pop()\n",
        "\n",
        "except ZeroDivisionError:\n",
        "  print(\"No es posible didivir un numero entre CERO\")\n",
        "except IndexError:\n",
        "  print(\"No es posible vaciar una lista que ya se encuentra vacia!!!\")\n",
        "else:\n",
        "  print(\"Codigo ejecutado con exito\")\n",
        "finally:\n",
        "  print(\"Pase lo que pase, yo me ejecuto\")  "
      ],
      "metadata": {
        "colab": {
          "base_uri": "https://localhost:8080/"
        },
        "id": "hRIGhC0c3QTn",
        "outputId": "76d1681b-3432-45d1-b911-9d482866af36"
      },
      "execution_count": null,
      "outputs": [
        {
          "output_type": "stream",
          "name": "stdout",
          "text": [
            "Ingrese un numero: 3\n",
            "0\n",
            "No es posible vaciar una lista que ya se encuentra vacia!!!\n",
            "Pase lo que pase, yo me ejecuto\n"
          ]
        }
      ]
    },
    {
      "cell_type": "markdown",
      "source": [
        "En el caso de que deseemos hacer algo diferente segun el tipo de excepcion, esta forma sirve mucho.\n",
        "\n",
        "Pero y si solo quiero imprimir el problema y ya? Bueno, tambien se puede resolver, pero de la siguiente forma 🔽"
      ],
      "metadata": {
        "id": "7fnQj5de3tHK"
      }
    },
    {
      "cell_type": "code",
      "source": [
        "try:\n",
        "  a = int(input(\"Ingrese un numero: \"))\n",
        "  b = 2\n",
        "\n",
        "  print(b//a)\n",
        "\n",
        "  lista = []\n",
        "  lista.pop()\n",
        "\n",
        "except Exception as exc:\n",
        "  print(f\"Tu codigo fallo por el siguiente motivo: {exc}\")\n",
        "  print(f\"Codigo de error: { type(exc).__name__ }\") # accedemos al nombre del error\n",
        "else:\n",
        "  print(\"Codigo ejecutado con exito\")\n",
        "finally:\n",
        "  print(\"Pase lo que pase, yo me ejecuto\")  "
      ],
      "metadata": {
        "colab": {
          "base_uri": "https://localhost:8080/"
        },
        "id": "IviUkbrF3sq_",
        "outputId": "54c31949-694f-44ad-9520-00ef51d6fdd4"
      },
      "execution_count": null,
      "outputs": [
        {
          "output_type": "stream",
          "name": "stdout",
          "text": [
            "Ingrese un numero: 0\n",
            "Tu codigo fallo por el siguiente motivo: integer division or modulo by zero\n",
            "Codigo de error: ZeroDivisionError\n",
            "Pase lo que pase, yo me ejecuto\n"
          ]
        }
      ]
    },
    {
      "cell_type": "code",
      "source": [
        "try:\n",
        "  a = int(input(\"Ingrese un numero: \"))\n",
        "  b = 2\n",
        "\n",
        "  print(b//a)\n",
        "\n",
        "  lista = []\n",
        "  lista.pop()\n",
        "\n",
        "except Exception as exc:\n",
        "  print(f\"Tu codigo fallo por el siguiente motivo: {exc}\")\n",
        "  print(f\"Codigo de error: { type(exc).__name__ }\") # accedemos al nombre del error\n",
        "else:\n",
        "  print(\"Codigo ejecutado con exito\")\n",
        "finally:\n",
        "  print(\"Pase lo que pase, yo me ejecuto\")  "
      ],
      "metadata": {
        "colab": {
          "base_uri": "https://localhost:8080/"
        },
        "id": "dpHYPpFX4Qjf",
        "outputId": "8fc1fa01-5e1b-4ffa-f7ca-d8586feeb923"
      },
      "execution_count": null,
      "outputs": [
        {
          "output_type": "stream",
          "name": "stdout",
          "text": [
            "Ingrese un numero: 3\n",
            "0\n",
            "Tu codigo fallo por el siguiente motivo: pop from empty list\n",
            "Codigo de error: IndexError\n",
            "Pase lo que pase, yo me ejecuto\n"
          ]
        }
      ]
    },
    {
      "cell_type": "markdown",
      "source": [
        "Como podemos observar, es un mismo bloque para varios tipos de excepciones"
      ],
      "metadata": {
        "id": "esy_XZV27oY1"
      }
    },
    {
      "cell_type": "markdown",
      "source": [
        "Podemos usar los codigos de excepcion que veniamos viendo en conjunto con esa  excepcion generica, para tener aun mas control"
      ],
      "metadata": {
        "id": "sQBs6SWn4XSy"
      }
    },
    {
      "cell_type": "code",
      "source": [
        "try:\n",
        "  a = int(input(\"Ingrese un numero: \"))\n",
        "  b = 2\n",
        "\n",
        "  # error si a es cero\n",
        "  print(b//a)\n",
        "\n",
        "\n",
        "  # error\n",
        "  res = \"hola\" / \"mundo\"\n",
        "\n",
        "except ZeroDivisionError:\n",
        "  print(\"No es posible didivir un numero entre CERO\")\n",
        "except Exception as exc:\n",
        "  print(f\"Tu codigo fallo por el siguiente motivo: {exc}\")\n",
        "  print(f\"Codigo de error: { type(exc).__name__ }\") # accedemos al nombre del error\n",
        "else:\n",
        "  print(\"Codigo ejecutado con exito\")\n",
        "finally:\n",
        "  print(\"Pase lo que pase, yo me ejecuto\")  "
      ],
      "metadata": {
        "colab": {
          "base_uri": "https://localhost:8080/"
        },
        "id": "F2BoCd1m3hQR",
        "outputId": "8c0f9a00-28dc-49c8-e73a-b41fab6f7a77"
      },
      "execution_count": null,
      "outputs": [
        {
          "output_type": "stream",
          "name": "stdout",
          "text": [
            "Ingrese un numero: 3\n",
            "0\n",
            "Tu codigo fallo por el siguiente motivo: unsupported operand type(s) for /: 'str' and 'str'\n",
            "Codigo de error: TypeError\n",
            "Pase lo que pase, yo me ejecuto\n"
          ]
        }
      ]
    },
    {
      "cell_type": "markdown",
      "source": [
        "Es importante tener en cuenta esta forma de ordenar las excepciones, ya que si colocamos primero el \"Exception\", siempre se ejecutaria esa excepcion debido a que es generica.\n",
        "\n",
        "En este caso, quiero que para ZeroDivisionError se muestre un mensaje, y para las demas se haga otra cosa."
      ],
      "metadata": {
        "id": "uBWcW3mm4n8u"
      }
    },
    {
      "cell_type": "markdown",
      "source": [
        "## Lanzar Excepciones\n",
        "\n",
        "Asi como podemos capturarlas, tambien podemos lanzarlas.\n",
        "\n",
        "Recordemos que cuando una excepcion se lanza, actua como un `return`, es decir, ninguna instruccion posterior a este sera ejecutada.\n",
        "\n",
        "Python nos provee de la instruccion `raise` para dicho fin."
      ],
      "metadata": {
        "id": "A6U7vIAm8qcY"
      }
    },
    {
      "cell_type": "code",
      "source": [
        "from os import name\n",
        "\n",
        "a = 3\n",
        "b = 0\n",
        "try:\n",
        "\n",
        "  if b == 0:\n",
        "    raise ValueError(\"B no puede ser 0\")\n",
        "  \n",
        "  print(a//b)\n",
        "except Exception as exc:\n",
        "  print(f\"Excepcion detectada: {exc}. Tipo: {type(exc).__name__}\")"
      ],
      "metadata": {
        "colab": {
          "base_uri": "https://localhost:8080/"
        },
        "id": "E40sF0Rj9E2u",
        "outputId": "c81504f3-97c9-4c19-92c2-c175da2cb139"
      },
      "execution_count": null,
      "outputs": [
        {
          "output_type": "stream",
          "name": "stdout",
          "text": [
            "Excepcion detectada: B no puede ser 0. Tipo: ValueError\n"
          ]
        }
      ]
    },
    {
      "cell_type": "markdown",
      "source": [
        "Como se puede ver en el ejemplo, `raise` recibe una excepcion con un mensaje que debe ser indicado por nosotros"
      ],
      "metadata": {
        "id": "7cjpBBWi9kWx"
      }
    },
    {
      "cell_type": "code",
      "source": [
        "a = 3\n",
        "b = 0\n",
        "try:\n",
        "\n",
        "  if b == 0:\n",
        "    raise Exception(\"B no puede ser 0\")\n",
        "  \n",
        "  print(a//b)\n",
        "\n",
        "except Exception as exc:\n",
        "  print(f\"Excepcion detectada: {exc}. Tipo: {type(exc).__name__}\")"
      ],
      "metadata": {
        "colab": {
          "base_uri": "https://localhost:8080/"
        },
        "id": "C1O8Gx4w95tm",
        "outputId": "3350ebaf-3cb1-4284-c6e7-0362b1960086"
      },
      "execution_count": null,
      "outputs": [
        {
          "output_type": "stream",
          "name": "stdout",
          "text": [
            "Excepcion detectada: B no puede ser 0. Tipo: Exception\n"
          ]
        }
      ]
    }
  ]
}